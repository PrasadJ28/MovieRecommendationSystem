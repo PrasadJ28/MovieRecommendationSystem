{
 "cells": [
  {
   "cell_type": "code",
   "execution_count": 1,
   "id": "29346db9-79f0-4544-a897-b1574581cac1",
   "metadata": {},
   "outputs": [
    {
     "name": "stdout",
     "output_type": "stream",
     "text": [
      "Movies dataset:\n",
      "   movieId                               title  \\\n",
      "0        1                    Toy Story (1995)   \n",
      "1        2                      Jumanji (1995)   \n",
      "2        3             Grumpier Old Men (1995)   \n",
      "3        4            Waiting to Exhale (1995)   \n",
      "4        5  Father of the Bride Part II (1995)   \n",
      "\n",
      "                                        genres  \n",
      "0  Adventure|Animation|Children|Comedy|Fantasy  \n",
      "1                   Adventure|Children|Fantasy  \n",
      "2                               Comedy|Romance  \n",
      "3                         Comedy|Drama|Romance  \n",
      "4                                       Comedy   \n",
      "\n",
      "Ratings dataset:\n",
      "   userId  movieId  rating  timestamp\n",
      "0       1        1     4.0  964982703\n",
      "1       1        3     4.0  964981247\n",
      "2       1        6     4.0  964982224\n",
      "3       1       47     5.0  964983815\n",
      "4       1       50     5.0  964982931 \n",
      "\n",
      "Tags dataset:\n",
      "   userId  movieId              tag   timestamp\n",
      "0       2    60756            funny  1445714994\n",
      "1       2    60756  Highly quotable  1445714996\n",
      "2       2    60756     will ferrell  1445714992\n",
      "3       2    89774     Boxing story  1445715207\n",
      "4       2    89774              MMA  1445715200\n"
     ]
    }
   ],
   "source": [
    "import pandas as pd\n",
    "\n",
    "# Load the datasets\n",
    "movies = pd.read_csv('movies.csv')\n",
    "ratings = pd.read_csv('ratings.csv')\n",
    "tags = pd.read_csv('tags.csv')\n",
    "\n",
    "# Display the first few rows of each dataset\n",
    "print(\"Movies dataset:\")\n",
    "print(movies.head(), \"\\n\")\n",
    "\n",
    "print(\"Ratings dataset:\")\n",
    "print(ratings.head(), \"\\n\")\n",
    "\n",
    "print(\"Tags dataset:\")\n",
    "print(tags.head())"
   ]
  },
  {
   "cell_type": "code",
   "execution_count": 3,
   "id": "418bbc8c-52fb-46f3-96fb-5b0b277e1785",
   "metadata": {
    "tags": []
   },
   "outputs": [
    {
     "name": "stdout",
     "output_type": "stream",
     "text": [
      "Merged dataset:\n",
      "   userId  movieId  rating   timestamp             title  \\\n",
      "0       1        1     4.0   964982703  Toy Story (1995)   \n",
      "1       5        1     4.0   847434962  Toy Story (1995)   \n",
      "2       7        1     4.5  1106635946  Toy Story (1995)   \n",
      "3      15        1     2.5  1510577970  Toy Story (1995)   \n",
      "4      17        1     4.5  1305696483  Toy Story (1995)   \n",
      "\n",
      "                                        genres  \n",
      "0  Adventure|Animation|Children|Comedy|Fantasy  \n",
      "1  Adventure|Animation|Children|Comedy|Fantasy  \n",
      "2  Adventure|Animation|Children|Comedy|Fantasy  \n",
      "3  Adventure|Animation|Children|Comedy|Fantasy  \n",
      "4  Adventure|Animation|Children|Comedy|Fantasy  \n"
     ]
    }
   ],
   "source": [
    "# Merge ratings and movies on 'movieId'\n",
    "data = pd.merge(ratings, movies, on='movieId', how='inner')\n",
    "\n",
    "# Display the first few rows of the merged dataset\n",
    "print(\"Merged dataset:\")\n",
    "print(data.head())"
   ]
  },
  {
   "cell_type": "code",
   "execution_count": 4,
   "id": "19fae34b-8690-4b91-bec7-89e1b14a7762",
   "metadata": {
    "tags": []
   },
   "outputs": [],
   "source": [
    "# Extract the release year from the title using regex\n",
    "data['year'] = data['title'].str.extract(r'\\((\\d{4})\\)')  # Extract year in parentheses\n"
   ]
  },
  {
   "cell_type": "code",
   "execution_count": 5,
   "id": "50396e81-5895-4f2d-9ee7-175b0165f243",
   "metadata": {
    "tags": []
   },
   "outputs": [],
   "source": [
    "data['year'] = pd.to_numeric(data['year'], errors='coerce')  # Convert to numeric\n",
    "\n"
   ]
  },
  {
   "cell_type": "code",
   "execution_count": 6,
   "id": "f0705ade-577a-4754-a141-19cd7f82108c",
   "metadata": {
    "tags": []
   },
   "outputs": [
    {
     "name": "stdout",
     "output_type": "stream",
     "text": [
      "Dataset after extracting year and handling missing values:\n",
      "   userId  movieId  rating   timestamp             title  \\\n",
      "0       1        1     4.0   964982703  Toy Story (1995)   \n",
      "1       5        1     4.0   847434962  Toy Story (1995)   \n",
      "2       7        1     4.5  1106635946  Toy Story (1995)   \n",
      "3      15        1     2.5  1510577970  Toy Story (1995)   \n",
      "4      17        1     4.5  1305696483  Toy Story (1995)   \n",
      "\n",
      "                                        genres    year  \n",
      "0  Adventure|Animation|Children|Comedy|Fantasy  1995.0  \n",
      "1  Adventure|Animation|Children|Comedy|Fantasy  1995.0  \n",
      "2  Adventure|Animation|Children|Comedy|Fantasy  1995.0  \n",
      "3  Adventure|Animation|Children|Comedy|Fantasy  1995.0  \n",
      "4  Adventure|Animation|Children|Comedy|Fantasy  1995.0  \n"
     ]
    }
   ],
   "source": [
    "# Check for missing values and drop rows with missing data\n",
    "data = data.dropna()\n",
    "\n",
    "# Display the first few rows of the updated dataset\n",
    "print(\"Dataset after extracting year and handling missing values:\")\n",
    "print(data.head())"
   ]
  },
  {
   "cell_type": "code",
   "execution_count": 7,
   "id": "a658ec53-2fe3-4b53-adbf-274353b1cf0c",
   "metadata": {
    "tags": []
   },
   "outputs": [
    {
     "name": "stdout",
     "output_type": "stream",
     "text": [
      "Dataset after one-hot encoding genres:\n",
      "   userId  movieId  rating   timestamp             title  \\\n",
      "0       1        1     4.0   964982703  Toy Story (1995)   \n",
      "1       5        1     4.0   847434962  Toy Story (1995)   \n",
      "2       7        1     4.5  1106635946  Toy Story (1995)   \n",
      "3      15        1     2.5  1510577970  Toy Story (1995)   \n",
      "4      17        1     4.5  1305696483  Toy Story (1995)   \n",
      "\n",
      "                                        genres    year  (no genres listed)  \\\n",
      "0  Adventure|Animation|Children|Comedy|Fantasy  1995.0                   0   \n",
      "1  Adventure|Animation|Children|Comedy|Fantasy  1995.0                   0   \n",
      "2  Adventure|Animation|Children|Comedy|Fantasy  1995.0                   0   \n",
      "3  Adventure|Animation|Children|Comedy|Fantasy  1995.0                   0   \n",
      "4  Adventure|Animation|Children|Comedy|Fantasy  1995.0                   0   \n",
      "\n",
      "   Action  Adventure  ...  Film-Noir  Horror  IMAX  Musical  Mystery  Romance  \\\n",
      "0       0          1  ...          0       0     0        0        0        0   \n",
      "1       0          1  ...          0       0     0        0        0        0   \n",
      "2       0          1  ...          0       0     0        0        0        0   \n",
      "3       0          1  ...          0       0     0        0        0        0   \n",
      "4       0          1  ...          0       0     0        0        0        0   \n",
      "\n",
      "   Sci-Fi  Thriller  War  Western  \n",
      "0       0         0    0        0  \n",
      "1       0         0    0        0  \n",
      "2       0         0    0        0  \n",
      "3       0         0    0        0  \n",
      "4       0         0    0        0  \n",
      "\n",
      "[5 rows x 27 columns]\n"
     ]
    }
   ],
   "source": [
    "# Split the genres into individual categories and perform one-hot encoding\n",
    "genres_onehot = data['genres'].str.get_dummies('|')\n",
    "\n",
    "# Concatenate the one-hot encoded genres back to the dataset\n",
    "data = pd.concat([data, genres_onehot], axis=1)\n",
    "\n",
    "# Display the first few rows of the updated dataset\n",
    "print(\"Dataset after one-hot encoding genres:\")\n",
    "print(data.head())\n"
   ]
  },
  {
   "cell_type": "code",
   "execution_count": 8,
   "id": "1b4feb12-1e32-4f83-a4f1-1f5c24ad41d8",
   "metadata": {
    "tags": []
   },
   "outputs": [
    {
     "name": "stdout",
     "output_type": "stream",
     "text": [
      "Number of unique users: 610\n",
      "Number of unique movies: 9711\n",
      "Filtered movies data shape: (90274, 27)\n"
     ]
    }
   ],
   "source": [
    "print(f\"Number of unique users: {data['userId'].nunique()}\")\n",
    "print(f\"Number of unique movies: {data['movieId'].nunique()}\")\n",
    "# Filter movies with at least 5 ratings\n",
    "def filter_movies_by_count(data, min_ratings=5, chunk_size=10000):\n",
    "    movie_rating_counts = data['movieId'].value_counts()\n",
    "    for i in range(0, len(movie_rating_counts), chunk_size):\n",
    "        chunk = movie_rating_counts.iloc[i:i+chunk_size]\n",
    "        chunk_popular_movies = chunk[chunk >= min_ratings].index\n",
    "        yield data[data['movieId'].isin(chunk_popular_movies)]\n",
    "\n",
    "# Apply movie filtering incrementally\n",
    "filtered_movie_data = pd.concat(filter_movies_by_count(data))  # Define filtered_movie_data\n",
    "print(f\"Filtered movies data shape: {filtered_movie_data.shape}\")"
   ]
  },
  {
   "cell_type": "code",
   "execution_count": 13,
   "id": "7a6bff1f-7f51-4851-8b4b-48c7984f824a",
   "metadata": {
    "tags": []
   },
   "outputs": [
    {
     "name": "stdout",
     "output_type": "stream",
     "text": [
      "User-Item Interaction Matrix:\n",
      "movieId  1       2       3       4       5       6       7       8       \\\n",
      "userId                                                                    \n",
      "1           4.0     NaN     4.0     NaN     NaN     4.0     NaN     NaN   \n",
      "2           NaN     NaN     NaN     NaN     NaN     NaN     NaN     NaN   \n",
      "3           NaN     NaN     NaN     NaN     NaN     NaN     NaN     NaN   \n",
      "4           NaN     NaN     NaN     NaN     NaN     NaN     NaN     NaN   \n",
      "5           4.0     NaN     NaN     NaN     NaN     NaN     NaN     NaN   \n",
      "\n",
      "movieId  9       10      ...  193565  193567  193571  193573  193579  193581  \\\n",
      "userId                   ...                                                   \n",
      "1           NaN     NaN  ...     NaN     NaN     NaN     NaN     NaN     NaN   \n",
      "2           NaN     NaN  ...     NaN     NaN     NaN     NaN     NaN     NaN   \n",
      "3           NaN     NaN  ...     NaN     NaN     NaN     NaN     NaN     NaN   \n",
      "4           NaN     NaN  ...     NaN     NaN     NaN     NaN     NaN     NaN   \n",
      "5           NaN     NaN  ...     NaN     NaN     NaN     NaN     NaN     NaN   \n",
      "\n",
      "movieId  193583  193585  193587  193609  \n",
      "userId                                   \n",
      "1           NaN     NaN     NaN     NaN  \n",
      "2           NaN     NaN     NaN     NaN  \n",
      "3           NaN     NaN     NaN     NaN  \n",
      "4           NaN     NaN     NaN     NaN  \n",
      "5           NaN     NaN     NaN     NaN  \n",
      "\n",
      "[5 rows x 9711 columns]\n"
     ]
    }
   ],
   "source": [
    " #Create the user-item interaction matrix\n",
    "user_item_matrix = data.pivot_table(index='userId', columns='movieId', values='rating')\n",
    "\n",
    " #Display the first few rows of the matrix\n",
    "print(\"User-Item Interaction Matrix:\")\n",
    "print(user_item_matrix.head())\n"
   ]
  },
  {
   "cell_type": "code",
   "execution_count": 14,
   "id": "6c8792d1-22a4-44d4-8078-a3a20122f239",
   "metadata": {
    "tags": []
   },
   "outputs": [
    {
     "name": "stdout",
     "output_type": "stream",
     "text": [
      "User-Item Interaction Matrix after filling NaN values:\n",
      "movieId  1       2       3       4       5       6       7       8       \\\n",
      "userId                                                                    \n",
      "1           4.0     0.0     4.0     0.0     0.0     4.0     0.0     0.0   \n",
      "2           0.0     0.0     0.0     0.0     0.0     0.0     0.0     0.0   \n",
      "3           0.0     0.0     0.0     0.0     0.0     0.0     0.0     0.0   \n",
      "4           0.0     0.0     0.0     0.0     0.0     0.0     0.0     0.0   \n",
      "5           4.0     0.0     0.0     0.0     0.0     0.0     0.0     0.0   \n",
      "\n",
      "movieId  9       10      ...  193565  193567  193571  193573  193579  193581  \\\n",
      "userId                   ...                                                   \n",
      "1           0.0     0.0  ...     0.0     0.0     0.0     0.0     0.0     0.0   \n",
      "2           0.0     0.0  ...     0.0     0.0     0.0     0.0     0.0     0.0   \n",
      "3           0.0     0.0  ...     0.0     0.0     0.0     0.0     0.0     0.0   \n",
      "4           0.0     0.0  ...     0.0     0.0     0.0     0.0     0.0     0.0   \n",
      "5           0.0     0.0  ...     0.0     0.0     0.0     0.0     0.0     0.0   \n",
      "\n",
      "movieId  193583  193585  193587  193609  \n",
      "userId                                   \n",
      "1           0.0     0.0     0.0     0.0  \n",
      "2           0.0     0.0     0.0     0.0  \n",
      "3           0.0     0.0     0.0     0.0  \n",
      "4           0.0     0.0     0.0     0.0  \n",
      "5           0.0     0.0     0.0     0.0  \n",
      "\n",
      "[5 rows x 9711 columns]\n"
     ]
    }
   ],
   "source": [
    "# Fill NaN values with 0 (assuming no interaction/rating)\n",
    "user_item_matrix = user_item_matrix.fillna(0)\n",
    "\n",
    "# Display the first few rows of the updated matrix\n",
    "print(\"User-Item Interaction Matrix after filling NaN values:\")\n",
    "print(user_item_matrix.head())"
   ]
  },
  {
   "cell_type": "code",
   "execution_count": 15,
   "id": "263f7a77-998a-4a57-9373-83daee390f2a",
   "metadata": {
    "tags": []
   },
   "outputs": [
    {
     "name": "stdout",
     "output_type": "stream",
     "text": [
      "Preprocessed user-item interaction matrix saved successfully.\n"
     ]
    }
   ],
   "source": [
    "# Save the user-item interaction matrix to a file for future use\n",
    "user_item_matrix.to_csv('user_item_matrix.csv', index=True)\n",
    "\n",
    "print(\"Preprocessed user-item interaction matrix saved successfully.\")"
   ]
  },
  {
   "cell_type": "code",
   "execution_count": 16,
   "id": "7f149138-6a6f-4721-8f3a-78953e1491b7",
   "metadata": {
    "tags": []
   },
   "outputs": [
    {
     "name": "stdout",
     "output_type": "stream",
     "text": [
      "User-item matrix after normalization:\n",
      "movieId    1         2         3         4         5         6         7       \\\n",
      "userId                                                                          \n",
      "1        3.895685 -0.104315  3.895685 -0.104315 -0.104315  3.895685 -0.104315   \n",
      "2       -0.011791 -0.011791 -0.011791 -0.011791 -0.011791 -0.011791 -0.011791   \n",
      "3       -0.009783 -0.009783 -0.009783 -0.009783 -0.009783 -0.009783 -0.009783   \n",
      "4       -0.079086 -0.079086 -0.079086 -0.079086 -0.079086 -0.079086 -0.079086   \n",
      "5        3.983524 -0.016476 -0.016476 -0.016476 -0.016476 -0.016476 -0.016476   \n",
      "\n",
      "movieId    8         9         10      ...    193565    193567    193571  \\\n",
      "userId                                 ...                                 \n",
      "1       -0.104315 -0.104315 -0.104315  ... -0.104315 -0.104315 -0.104315   \n",
      "2       -0.011791 -0.011791 -0.011791  ... -0.011791 -0.011791 -0.011791   \n",
      "3       -0.009783 -0.009783 -0.009783  ... -0.009783 -0.009783 -0.009783   \n",
      "4       -0.079086 -0.079086 -0.079086  ... -0.079086 -0.079086 -0.079086   \n",
      "5       -0.016476 -0.016476 -0.016476  ... -0.016476 -0.016476 -0.016476   \n",
      "\n",
      "movieId    193573    193579    193581    193583    193585    193587    193609  \n",
      "userId                                                                         \n",
      "1       -0.104315 -0.104315 -0.104315 -0.104315 -0.104315 -0.104315 -0.104315  \n",
      "2       -0.011791 -0.011791 -0.011791 -0.011791 -0.011791 -0.011791 -0.011791  \n",
      "3       -0.009783 -0.009783 -0.009783 -0.009783 -0.009783 -0.009783 -0.009783  \n",
      "4       -0.079086 -0.079086 -0.079086 -0.079086 -0.079086 -0.079086 -0.079086  \n",
      "5       -0.016476 -0.016476 -0.016476 -0.016476 -0.016476 -0.016476 -0.016476  \n",
      "\n",
      "[5 rows x 9711 columns]\n"
     ]
    }
   ],
   "source": [
    "# Normalize ratings by subtracting the user mean\n",
    "user_mean = user_item_matrix.mean(axis=1)\n",
    "user_item_matrix_normalized = user_item_matrix.sub(user_mean, axis=0)\n",
    "\n",
    "# Fill NaN (caused by subtraction) with 0\n",
    "user_item_matrix_normalized = user_item_matrix_normalized.fillna(0)\n",
    "\n",
    "print(\"User-item matrix after normalization:\")\n",
    "print(user_item_matrix_normalized.head())"
   ]
  },
  {
   "cell_type": "code",
   "execution_count": 17,
   "id": "140d6680-4f71-4762-8ad6-511f5a00cdc9",
   "metadata": {
    "tags": []
   },
   "outputs": [
    {
     "name": "stdout",
     "output_type": "stream",
     "text": [
      "User-item matrix after normalization:\n",
      "movieId    1         2         3         4         5         6         7       \\\n",
      "userId                                                                          \n",
      "1        3.895685 -0.104315  3.895685 -0.104315 -0.104315  3.895685 -0.104315   \n",
      "2       -0.011791 -0.011791 -0.011791 -0.011791 -0.011791 -0.011791 -0.011791   \n",
      "3       -0.009783 -0.009783 -0.009783 -0.009783 -0.009783 -0.009783 -0.009783   \n",
      "4       -0.079086 -0.079086 -0.079086 -0.079086 -0.079086 -0.079086 -0.079086   \n",
      "5        3.983524 -0.016476 -0.016476 -0.016476 -0.016476 -0.016476 -0.016476   \n",
      "\n",
      "movieId    8         9         10      ...    193565    193567    193571  \\\n",
      "userId                                 ...                                 \n",
      "1       -0.104315 -0.104315 -0.104315  ... -0.104315 -0.104315 -0.104315   \n",
      "2       -0.011791 -0.011791 -0.011791  ... -0.011791 -0.011791 -0.011791   \n",
      "3       -0.009783 -0.009783 -0.009783  ... -0.009783 -0.009783 -0.009783   \n",
      "4       -0.079086 -0.079086 -0.079086  ... -0.079086 -0.079086 -0.079086   \n",
      "5       -0.016476 -0.016476 -0.016476  ... -0.016476 -0.016476 -0.016476   \n",
      "\n",
      "movieId    193573    193579    193581    193583    193585    193587    193609  \n",
      "userId                                                                         \n",
      "1       -0.104315 -0.104315 -0.104315 -0.104315 -0.104315 -0.104315 -0.104315  \n",
      "2       -0.011791 -0.011791 -0.011791 -0.011791 -0.011791 -0.011791 -0.011791  \n",
      "3       -0.009783 -0.009783 -0.009783 -0.009783 -0.009783 -0.009783 -0.009783  \n",
      "4       -0.079086 -0.079086 -0.079086 -0.079086 -0.079086 -0.079086 -0.079086  \n",
      "5       -0.016476 -0.016476 -0.016476 -0.016476 -0.016476 -0.016476 -0.016476  \n",
      "\n",
      "[5 rows x 9711 columns]\n"
     ]
    }
   ],
   "source": [
    "# Normalize ratings by subtracting the user mean\n",
    "user_mean = user_item_matrix.mean(axis=1)\n",
    "user_item_matrix_normalized = user_item_matrix.sub(user_mean, axis=0)\n",
    "\n",
    "# Fill NaN (caused by subtraction) with 0\n",
    "user_item_matrix_normalized = user_item_matrix_normalized.fillna(0)\n",
    "\n",
    "print(\"User-item matrix after normalization:\")\n",
    "print(user_item_matrix_normalized.head())"
   ]
  },
  {
   "cell_type": "code",
   "execution_count": null,
   "id": "8fa3efd2-9ecc-4926-b61e-671c3b299120",
   "metadata": {},
   "outputs": [],
   "source": []
  }
 ],
 "metadata": {
  "kernelspec": {
   "display_name": "Python 3 (ipykernel)",
   "language": "python",
   "name": "python3"
  },
  "language_info": {
   "codemirror_mode": {
    "name": "ipython",
    "version": 3
   },
   "file_extension": ".py",
   "mimetype": "text/x-python",
   "name": "python",
   "nbconvert_exporter": "python",
   "pygments_lexer": "ipython3",
   "version": "3.11.5"
  }
 },
 "nbformat": 4,
 "nbformat_minor": 5
}
